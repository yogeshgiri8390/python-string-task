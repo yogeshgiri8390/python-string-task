{
 "cells": [
  {
   "cell_type": "markdown",
   "id": "f0943ef7-595b-46a6-98a7-dd9d8630e74c",
   "metadata": {},
   "source": [
    "# string capitalized method convert first latter uppercase"
   ]
  },
  {
   "cell_type": "code",
   "execution_count": 3,
   "id": "290b99fb-5d7f-4950-947a-763c20e4efdb",
   "metadata": {},
   "outputs": [
    {
     "name": "stdout",
     "output_type": "stream",
     "text": [
      "Hello i am yogesh\n"
     ]
    }
   ],
   "source": [
    "str1 = 'hello i am yogesh'\n",
    "sentence = str1.capitalize()\n",
    "print(sentence)"
   ]
  },
  {
   "cell_type": "code",
   "execution_count": 11,
   "id": "d23f55a7-fcd3-4cc0-8d49-35a5ee1bcf8f",
   "metadata": {},
   "outputs": [
    {
     "name": "stdout",
     "output_type": "stream",
     "text": [
      "25 is my age\n"
     ]
    }
   ],
   "source": [
    "str2 = '25 is my age'\n",
    "sentence = str2.capitalize()\n",
    "print(sentence)"
   ]
  },
  {
   "cell_type": "markdown",
   "id": "cda3cca4-bab3-45e9-8be4-85dcb7a4f19d",
   "metadata": {},
   "source": [
    "## string casefold method character convert first latter loweercase"
   ]
  },
  {
   "cell_type": "code",
   "execution_count": 14,
   "id": "e3aa39e4-4dbe-4435-aefa-c01e561c4c1b",
   "metadata": {},
   "outputs": [
    {
     "name": "stdout",
     "output_type": "stream",
     "text": [
      "python is programing language\n"
     ]
    }
   ],
   "source": [
    "str3 ='python is programing language'\n",
    "sentence = str3.casefold()\n",
    "print(sentence)"
   ]
  },
  {
   "cell_type": "markdown",
   "id": "bded7476-c55e-4ec2-ba89-07c71097c0e2",
   "metadata": {},
   "source": [
    "# string center method character convert first letter center"
   ]
  },
  {
   "cell_type": "code",
   "execution_count": 17,
   "id": "de138cd2-46ab-4fcf-949f-084eba3ea3b0",
   "metadata": {},
   "outputs": [
    {
     "name": "stdout",
     "output_type": "stream",
     "text": [
      "            apple             \n"
     ]
    }
   ],
   "source": [
    "str4 = 'apple'\n",
    "sentence = str4.center(30)\n",
    "print(sentence)"
   ]
  },
  {
   "cell_type": "markdown",
   "id": "c8c61382-e475-4177-9b3d-16d14ddd5b1c",
   "metadata": {},
   "source": [
    "# string count method"
   ]
  },
  {
   "cell_type": "code",
   "execution_count": 20,
   "id": "a5ca4dba-0cc2-490e-b0e5-8d2d924b132d",
   "metadata": {},
   "outputs": [
    {
     "name": "stdout",
     "output_type": "stream",
     "text": [
      "2\n"
     ]
    }
   ],
   "source": [
    "str5 = 'i love nagpur, nagpur is my fav city'\n",
    "sentence = str5.count('nagpur')\n",
    "print(sentence)"
   ]
  },
  {
   "cell_type": "code",
   "execution_count": 22,
   "id": "60ff0c34-cf75-42bc-aa81-34f3cb147259",
   "metadata": {},
   "outputs": [
    {
     "name": "stdout",
     "output_type": "stream",
     "text": [
      "0\n"
     ]
    }
   ],
   "source": [
    "str5 = 'i love nagpur, nagpur is my fav city'\n",
    "sentence = str5.count('nagpur',20,34)\n",
    "print(sentence)"
   ]
  },
  {
   "cell_type": "markdown",
   "id": "8e719762-f62c-41d6-b813-799af0c4321f",
   "metadata": {},
   "source": [
    "# string encode"
   ]
  },
  {
   "cell_type": "code",
   "execution_count": 2,
   "id": "5b4f11dd-d86f-4693-9afa-fed70666adbf",
   "metadata": {},
   "outputs": [
    {
     "name": "stdout",
     "output_type": "stream",
     "text": [
      "b'hello i am yogesh'\n"
     ]
    }
   ],
   "source": [
    "str6 =  'hello i am yogesh'\n",
    "sentence = str6.encode()\n",
    "print(sentence )"
   ]
  },
  {
   "cell_type": "markdown",
   "id": "5e1f122a-e7ee-4bb6-9c37-ba32d16ee23b",
   "metadata": {},
   "source": [
    "# string expandtabs()"
   ]
  },
  {
   "cell_type": "code",
   "execution_count": 16,
   "id": "fb96c1e7-ef84-447c-9096-d356417a5319",
   "metadata": {},
   "outputs": [
    {
     "name": "stdout",
     "output_type": "stream",
     "text": [
      "y\\yo\\ge\\sh\\gi\n"
     ]
    }
   ],
   "source": [
    "str7 = 'y\\yo\\ge\\sh\\gi'\n",
    "sentence = str7.expandtabs(2)\n",
    "print(sentence)"
   ]
  },
  {
   "cell_type": "markdown",
   "id": "e58d7c23-4253-42d7-af06-ca7882e8e4e1",
   "metadata": {},
   "source": [
    "# string endwith"
   ]
  },
  {
   "cell_type": "code",
   "execution_count": 22,
   "id": "bfd6718a-1ff9-4153-87c1-05314445b63a",
   "metadata": {},
   "outputs": [
    {
     "name": "stdout",
     "output_type": "stream",
     "text": [
      "True\n"
     ]
    }
   ],
   "source": [
    "str8 = 'hello,welcome to my city.'\n",
    "sentence = str8.endswith('.')\n",
    "print(sentence)"
   ]
  },
  {
   "cell_type": "markdown",
   "id": "d7bec6db-9182-4031-a061-f2df2e800cf4",
   "metadata": {},
   "source": [
    "# string find ()"
   ]
  },
  {
   "cell_type": "code",
   "execution_count": 25,
   "id": "c6f90fb8-529a-4546-9dd4-0eba4c0c6bcf",
   "metadata": {},
   "outputs": [
    {
     "name": "stdout",
     "output_type": "stream",
     "text": [
      "7\n"
     ]
    }
   ],
   "source": [
    "str9 = 'i love nagpur city,welcome to nagpur city.'\n",
    "sentence = str9.find('nagpur')\n",
    "print(sentence)"
   ]
  },
  {
   "cell_type": "markdown",
   "id": "095de6cb-1286-4fe3-a0bf-498fa08f1ccb",
   "metadata": {},
   "source": [
    "# string format()"
   ]
  },
  {
   "cell_type": "code",
   "execution_count": 30,
   "id": "9d33b6e2-95d9-44bf-9efe-db5afb3bd7a0",
   "metadata": {},
   "outputs": [
    {
     "name": "stdout",
     "output_type": "stream",
     "text": [
      "for only 39.000dollars!\n"
     ]
    }
   ],
   "source": [
    "str10 = 'for only {price:.3f}dollars!'\n",
    "print(str10.format(price = 39) )"
   ]
  },
  {
   "cell_type": "markdown",
   "id": "fe587ae7-5155-404f-898e-55314a6fa254",
   "metadata": {},
   "source": [
    "# string index"
   ]
  },
  {
   "cell_type": "code",
   "execution_count": 5,
   "id": "6a20a4a8-e2ed-4755-a075-15d9d58bd935",
   "metadata": {},
   "outputs": [
    {
     "name": "stdout",
     "output_type": "stream",
     "text": [
      "7\n"
     ]
    }
   ],
   "source": [
    "txt1 = 'hello, welcome to python.'\n",
    "sentence = txt1.index('welcome')\n",
    "print(sentence)"
   ]
  },
  {
   "cell_type": "markdown",
   "id": "3507950f-57e5-4edf-9778-fa1dbb0a9b0a",
   "metadata": {},
   "source": [
    "# string isalnum"
   ]
  },
  {
   "cell_type": "code",
   "execution_count": 12,
   "id": "d2fdedc0-f192-4afb-9b31-2beaf5005ba2",
   "metadata": {},
   "outputs": [
    {
     "name": "stdout",
     "output_type": "stream",
     "text": [
      "True\n"
     ]
    }
   ],
   "source": [
    "txt2 = 'class13'\n",
    "sentence = txt2.isalnum()\n",
    "print(sentence)"
   ]
  },
  {
   "cell_type": "markdown",
   "id": "41472b9f-e6b0-4f5c-8c23-477c4b797d98",
   "metadata": {},
   "source": [
    "# string isalpha"
   ]
  },
  {
   "cell_type": "code",
   "execution_count": 19,
   "id": "1d07c223-90cb-4ad1-9c02-1526b16869a0",
   "metadata": {},
   "outputs": [
    {
     "name": "stdout",
     "output_type": "stream",
     "text": [
      "False\n"
     ]
    }
   ],
   "source": [
    "txt3 = 'class10'\n",
    "sentence =txt3.isalpha()\n",
    "print(sentence)"
   ]
  },
  {
   "cell_type": "markdown",
   "id": "fc96933d-1271-4fe7-9ada-e7efcf5f5f1d",
   "metadata": {},
   "source": [
    "# string isascii"
   ]
  },
  {
   "cell_type": "code",
   "execution_count": 22,
   "id": "6299c757-b284-45c5-b3d0-31f6e64a4892",
   "metadata": {},
   "outputs": [
    {
     "name": "stdout",
     "output_type": "stream",
     "text": [
      "True\n"
     ]
    }
   ],
   "source": [
    "txt4 = 'class123'\n",
    "sentence = txt4.isascii()\n",
    "print(sentence)"
   ]
  },
  {
   "cell_type": "markdown",
   "id": "7f7a2bc6-5867-4a37-9adb-90dc52c20c34",
   "metadata": {},
   "source": [
    "# string isdecimal"
   ]
  },
  {
   "cell_type": "code",
   "execution_count": 25,
   "id": "b89eee23-4598-42b8-9009-9340dfe7d5db",
   "metadata": {},
   "outputs": [
    {
     "name": "stdout",
     "output_type": "stream",
     "text": [
      "True\n"
     ]
    }
   ],
   "source": [
    "txt5 = '123'\n",
    "sentence = txt5.isdecimal()\n",
    "print(sentence)"
   ]
  },
  {
   "cell_type": "markdown",
   "id": "3ffa5d8d-3273-440e-8ad5-4a69d59a9a8b",
   "metadata": {},
   "source": [
    "# string isdigit"
   ]
  },
  {
   "cell_type": "code",
   "execution_count": 28,
   "id": "625da66c-094f-4285-abca-b90057c47a28",
   "metadata": {},
   "outputs": [
    {
     "name": "stdout",
     "output_type": "stream",
     "text": [
      "True\n"
     ]
    }
   ],
   "source": [
    "txt6 = '10500'\n",
    "sentence = txt6.isdigit()\n",
    "print(sentence)\n"
   ]
  },
  {
   "cell_type": "markdown",
   "id": "b9a71a3f-67ac-43aa-b0f0-c3e26153bbeb",
   "metadata": {},
   "source": [
    "# string isidentifier"
   ]
  },
  {
   "cell_type": "code",
   "execution_count": 31,
   "id": "9da0240e-1f10-4c51-a7c5-49f3454bb32b",
   "metadata": {},
   "outputs": [
    {
     "name": "stdout",
     "output_type": "stream",
     "text": [
      "True\n"
     ]
    }
   ],
   "source": [
    "txt7 = 'demo'\n",
    "sentence = txt7.isidentifier()\n",
    "print(sentence)"
   ]
  },
  {
   "cell_type": "markdown",
   "id": "2b72bd29-fa4d-4b29-a498-a74ab13f9bd3",
   "metadata": {},
   "source": [
    "# string islower()"
   ]
  },
  {
   "cell_type": "code",
   "execution_count": 2,
   "id": "9f803653-1e36-4919-b1e6-6d93a0d11565",
   "metadata": {},
   "outputs": [
    {
     "name": "stdout",
     "output_type": "stream",
     "text": [
      "True\n"
     ]
    }
   ],
   "source": [
    "txt8 = 'hello brother'\n",
    "sentence = txt8.islower()\n",
    "print(sentence)"
   ]
  },
  {
   "cell_type": "markdown",
   "id": "afab8ff9-3a70-42c2-b898-8f97b9dc3720",
   "metadata": {},
   "source": [
    "# string isnumeric () method"
   ]
  },
  {
   "cell_type": "code",
   "execution_count": 5,
   "id": "42de427f-9172-4ab3-9029-7c84b2f279cd",
   "metadata": {},
   "outputs": [
    {
     "name": "stdout",
     "output_type": "stream",
     "text": [
      "True\n"
     ]
    }
   ],
   "source": [
    "txt9 = '565543'\n",
    "sentence = txt9.isnumeric()\n",
    "print(sentence)"
   ]
  },
  {
   "cell_type": "code",
   "execution_count": 7,
   "id": "286ef863-bc46-446c-88c9-e656eb374228",
   "metadata": {},
   "outputs": [
    {
     "name": "stdout",
     "output_type": "stream",
     "text": [
      "False\n"
     ]
    }
   ],
   "source": [
    "txt9 = '-1'\n",
    "sentence = txt9.isnumeric()\n",
    "print(sentence)"
   ]
  },
  {
   "cell_type": "markdown",
   "id": "15240f4c-9752-497c-84d3-422a1fb907b1",
   "metadata": {},
   "source": [
    "# string isprintable() method"
   ]
  },
  {
   "cell_type": "code",
   "execution_count": 12,
   "id": "43f77a08-a4df-4312-8a48-3cd382d94997",
   "metadata": {},
   "outputs": [
    {
     "name": "stdout",
     "output_type": "stream",
     "text": [
      "True\n"
     ]
    }
   ],
   "source": [
    "var1 = 'hello ! are you #1?'\n",
    "sentence = var1.isprintable()\n",
    "print(sentence)"
   ]
  },
  {
   "cell_type": "code",
   "execution_count": 14,
   "id": "4c7763d6-7604-481b-af91-931f5b7c6042",
   "metadata": {},
   "outputs": [
    {
     "name": "stdout",
     "output_type": "stream",
     "text": [
      "False\n"
     ]
    }
   ],
   "source": [
    "var1 = 'hello!\\n are you #1?'\n",
    "sentence = var1.isprintable()\n",
    "print(sentence)"
   ]
  },
  {
   "cell_type": "markdown",
   "id": "c0927214-21f0-41d0-9356-e94b2c0c4a51",
   "metadata": {},
   "source": [
    "# string isspace() method"
   ]
  },
  {
   "cell_type": "code",
   "execution_count": 17,
   "id": "5f806a34-60f6-44c0-9fe5-8ea738fb1676",
   "metadata": {},
   "outputs": [
    {
     "name": "stdout",
     "output_type": "stream",
     "text": [
      "True\n"
     ]
    }
   ],
   "source": [
    "var2 = '  '\n",
    "sentence =var2.isspace()\n",
    "print(sentence)"
   ]
  },
  {
   "cell_type": "code",
   "execution_count": 19,
   "id": "c37487ac-e911-410a-a322-e529947f5047",
   "metadata": {},
   "outputs": [
    {
     "name": "stdout",
     "output_type": "stream",
     "text": [
      "False\n"
     ]
    }
   ],
   "source": [
    "var2 = ' y '\n",
    "sentence =var2.isspace()\n",
    "print(sentence)"
   ]
  },
  {
   "cell_type": "markdown",
   "id": "87b5ff1f-3446-4c55-a30d-3f5b25bd11e0",
   "metadata": {},
   "source": [
    "# string istitle() method"
   ]
  },
  {
   "cell_type": "code",
   "execution_count": 22,
   "id": "703ae856-74d9-4742-90d5-779be8bef669",
   "metadata": {},
   "outputs": [
    {
     "name": "stdout",
     "output_type": "stream",
     "text": [
      "False\n"
     ]
    }
   ],
   "source": [
    "var3 = 'hello, welcome to my home!'\n",
    "sentence = var3.istitle()\n",
    "print(sentence)"
   ]
  },
  {
   "cell_type": "code",
   "execution_count": 34,
   "id": "2564d375-9e2d-40ec-a536-28271777ab40",
   "metadata": {},
   "outputs": [
    {
     "name": "stdout",
     "output_type": "stream",
     "text": [
      "True\n"
     ]
    }
   ],
   "source": [
    "var3 = 'Names1'\n",
    "sentence = var3.istitle()\n",
    "print(sentence)"
   ]
  },
  {
   "cell_type": "markdown",
   "id": "237c6060-dc4e-49f7-b725-9d1275c450e5",
   "metadata": {},
   "source": [
    "# string isupper () method"
   ]
  },
  {
   "cell_type": "code",
   "execution_count": 37,
   "id": "335937cf-26b4-49fa-b54a-c8b03dd347bb",
   "metadata": {},
   "outputs": [
    {
     "name": "stdout",
     "output_type": "stream",
     "text": [
      "False\n"
     ]
    }
   ],
   "source": [
    "var4 = 'This is now'\n",
    "sentence = var4.isupper()\n",
    "print(sentence)"
   ]
  },
  {
   "cell_type": "code",
   "execution_count": 41,
   "id": "13f97443-5050-422e-b502-6f107212b898",
   "metadata": {},
   "outputs": [
    {
     "name": "stdout",
     "output_type": "stream",
     "text": [
      "True\n"
     ]
    }
   ],
   "source": [
    "var4 = 'THIS IS NOW!'\n",
    "sentence = var4.isupper()\n",
    "print(sentence)"
   ]
  },
  {
   "cell_type": "markdown",
   "id": "638cbeae-e190-4da1-a799-441d083a268d",
   "metadata": {},
   "source": [
    "# string join() method"
   ]
  },
  {
   "cell_type": "code",
   "execution_count": 2,
   "id": "c2bc3ec8-fd91-4b88-9d1f-5094d84ef233",
   "metadata": {},
   "outputs": [
    {
     "name": "stdout",
     "output_type": "stream",
     "text": [
      "sumit#vivek#akash\n"
     ]
    }
   ],
   "source": [
    "var5 = ('sumit','vivek', 'akash')\n",
    "sentence = '#'.join(var5)\n",
    "print(sentence)"
   ]
  },
  {
   "cell_type": "code",
   "execution_count": 4,
   "id": "138effab-f236-48be-a85a-78cd1e63a6c9",
   "metadata": {},
   "outputs": [
    {
     "name": "stdout",
     "output_type": "stream",
     "text": [
      "sumitclassvivekclassakash\n"
     ]
    }
   ],
   "source": [
    "var5 = ('sumit','vivek', 'akash')\n",
    "myseprator = 'class'\n",
    "sentence = myseprator.join(var5)\n",
    "print(sentence)"
   ]
  },
  {
   "cell_type": "markdown",
   "id": "1bc0090c-66aa-49d4-98ed-89f1ff088764",
   "metadata": {},
   "source": [
    "# string ljust() method"
   ]
  },
  {
   "cell_type": "code",
   "execution_count": 7,
   "id": "0528a0f2-9288-4ff6-813f-5338b2579e2a",
   "metadata": {},
   "outputs": [
    {
     "name": "stdout",
     "output_type": "stream",
     "text": [
      "apple                is my favorite fruit.\n"
     ]
    }
   ],
   "source": [
    "var6 = 'apple'\n",
    "sentence = var6.ljust(20)\n",
    "print(sentence,'is my favorite fruit.')"
   ]
  },
  {
   "cell_type": "markdown",
   "id": "02e03be5-2fa3-47bf-a3da-88682dd93bfd",
   "metadata": {},
   "source": [
    "# sting lower() method"
   ]
  },
  {
   "cell_type": "code",
   "execution_count": 10,
   "id": "57e7dbaf-c085-4007-bce4-68a1f4a856ab",
   "metadata": {},
   "outputs": [
    {
     "name": "stdout",
     "output_type": "stream",
     "text": [
      "hello my friend\n"
     ]
    }
   ],
   "source": [
    "var7 = 'hello my friend'\n",
    "sentence = var7.lower()\n",
    "print(sentence)"
   ]
  },
  {
   "cell_type": "markdown",
   "id": "07418a73-7075-41ce-b380-c92853f9eeca",
   "metadata": {},
   "source": [
    "# string lstrip()"
   ]
  },
  {
   "cell_type": "code",
   "execution_count": 17,
   "id": "96ce0bdf-f6c6-47a2-babe-bfdc8461469d",
   "metadata": {},
   "outputs": [
    {
     "name": "stdout",
     "output_type": "stream",
     "text": [
      "of all fruits apple     is my favorite\n"
     ]
    }
   ],
   "source": [
    "var8 = '    apple    '\n",
    "sentence = var8.lstrip()\n",
    "print('of all fruits', sentence, 'is my favorite')"
   ]
  },
  {
   "cell_type": "markdown",
   "id": "c602a363-9d41-4496-b259-67213b023b0c",
   "metadata": {},
   "source": [
    "# string maketrans() method"
   ]
  },
  {
   "cell_type": "code",
   "execution_count": 24,
   "id": "e8efd0b1-6704-4e87-895a-cb7eba97104a",
   "metadata": {},
   "outputs": [
    {
     "name": "stdout",
     "output_type": "stream",
     "text": [
      "hello pumit\n"
     ]
    }
   ],
   "source": [
    "var9 = 'hello sumit'\n",
    "mytable = str.maketrans('s','p')\n",
    "print(var9.translate(mytable))"
   ]
  },
  {
   "cell_type": "markdown",
   "id": "1860cd92-2f91-4a78-98c2-688f5b62a694",
   "metadata": {},
   "source": [
    "# string partition()"
   ]
  },
  {
   "cell_type": "code",
   "execution_count": 27,
   "id": "8c4b5153-c091-4a4c-8ee9-a85a76e7205a",
   "metadata": {},
   "outputs": [
    {
     "name": "stdout",
     "output_type": "stream",
     "text": [
      "('i could eat ', 'apples', ' all day')\n"
     ]
    }
   ],
   "source": [
    "text1 = 'i could eat apples all day'\n",
    "sentence = text1.partition('apples')\n",
    "print(sentence)"
   ]
  },
  {
   "cell_type": "markdown",
   "id": "1caea850-e9e9-4aba-abb6-9c56cdc40fee",
   "metadata": {},
   "source": [
    "# string replace()"
   ]
  },
  {
   "cell_type": "code",
   "execution_count": 6,
   "id": "e5178e13-969d-482a-b7ae-3cc652bcc093",
   "metadata": {},
   "outputs": [
    {
     "name": "stdout",
     "output_type": "stream",
     "text": [
      "I like bananas\n"
     ]
    }
   ],
   "source": [
    "text2 = 'I like apples'\n",
    "sentence = text2.replace('apples', 'bananas')\n",
    "print(sentence)\n",
    "                        "
   ]
  },
  {
   "cell_type": "markdown",
   "id": "2d444c7c-97b7-4dc3-9446-0fd73eb59ffc",
   "metadata": {},
   "source": [
    "# string rfind()"
   ]
  },
  {
   "cell_type": "code",
   "execution_count": 29,
   "id": "457f7473-aee7-4b40-94f3-e4b924b369e0",
   "metadata": {},
   "outputs": [
    {
     "name": "stdout",
     "output_type": "stream",
     "text": [
      "-1\n"
     ]
    }
   ],
   "source": [
    "text3 = 'Mi arc, su arc'\n",
    "sentence = text2.rfind('arc')\n",
    "print(sentence)"
   ]
  },
  {
   "cell_type": "markdown",
   "id": "c493c102-42cd-4224-8e89-90d5ac19ded3",
   "metadata": {},
   "source": [
    "# string rindex()"
   ]
  },
  {
   "cell_type": "code",
   "execution_count": 22,
   "id": "4a6976de-bfe8-437f-9054-43ce24e3e1e6",
   "metadata": {},
   "outputs": [
    {
     "name": "stdout",
     "output_type": "stream",
     "text": [
      "12\n"
     ]
    }
   ],
   "source": [
    "text4 = 'Mi casa, su casa'\n",
    "sentence = text4.rindex('casa')\n",
    "print(sentence)"
   ]
  },
  {
   "cell_type": "markdown",
   "id": "e71114d9-bafb-4f68-b035-7c54b3abec94",
   "metadata": {},
   "source": [
    "# string rjust()"
   ]
  },
  {
   "cell_type": "code",
   "execution_count": 32,
   "id": "5b532d52-359a-4487-a258-7dd4d1d54b8c",
   "metadata": {},
   "outputs": [
    {
     "name": "stdout",
     "output_type": "stream",
     "text": [
      "               apple is my favorite fruit\n"
     ]
    }
   ],
   "source": [
    "text5 = 'apple'\n",
    "sentence = text5.rjust(20)\n",
    "print(sentence, 'is my favorite fruit')"
   ]
  },
  {
   "cell_type": "markdown",
   "id": "aaeb949f-ca8a-4f68-b1c0-ad2bd4be07c1",
   "metadata": {},
   "source": [
    "# string rpartition ()"
   ]
  },
  {
   "cell_type": "code",
   "execution_count": 37,
   "id": "36bb9420-37c9-485c-ba99-df4d9bce7864",
   "metadata": {},
   "outputs": [
    {
     "name": "stdout",
     "output_type": "stream",
     "text": [
      "('i could eat apples all day,', 'apples', ' are my favorite fruit')\n"
     ]
    }
   ],
   "source": [
    "txt6 = 'i could eat apples all day,apples are my favorite fruit'\n",
    "sentence = txt6.rpartition('apples')\n",
    "print(sentence)"
   ]
  },
  {
   "cell_type": "markdown",
   "id": "74293821-1fa3-43d2-80ef-33c9c2e9a74a",
   "metadata": {},
   "source": [
    "# string rsplit()"
   ]
  },
  {
   "cell_type": "code",
   "execution_count": 40,
   "id": "1e8d3cb3-04a2-425c-8ed2-8466be76cf15",
   "metadata": {},
   "outputs": [
    {
     "name": "stdout",
     "output_type": "stream",
     "text": [
      "['apple', ' banana', 'cherry']\n"
     ]
    }
   ],
   "source": [
    "txt6 = 'apple, banana,cherry'\n",
    "sentence = txt6.rsplit(',')\n",
    "print(sentence)"
   ]
  },
  {
   "cell_type": "markdown",
   "id": "64ec7945-9c05-4ca8-a3b6-ca6f3bc85871",
   "metadata": {},
   "source": [
    "# string rstrip()"
   ]
  },
  {
   "cell_type": "code",
   "execution_count": 43,
   "id": "8fc8d729-25c8-4b85-a5d5-082e408c4bde",
   "metadata": {},
   "outputs": [
    {
     "name": "stdout",
     "output_type": "stream",
     "text": [
      "of all fruit    banana is my favorite\n"
     ]
    }
   ],
   "source": [
    "txt7 = '   banana   '\n",
    "sentence = txt7.rstrip()\n",
    "print('of all fruit',sentence,'is my favorite')"
   ]
  },
  {
   "cell_type": "markdown",
   "id": "3273fd3b-2a93-44e7-9072-a77add4f4b8e",
   "metadata": {},
   "source": [
    "# string split()"
   ]
  },
  {
   "cell_type": "code",
   "execution_count": 46,
   "id": "c21266fe-f189-4451-b621-9e677cc1ee2b",
   "metadata": {},
   "outputs": [
    {
     "name": "stdout",
     "output_type": "stream",
     "text": [
      "['welcome', 'to', 'the', 'jungle']\n"
     ]
    }
   ],
   "source": [
    "txt8 = 'welcome to the jungle'\n",
    "sentence = txt8.split()\n",
    "print(sentence)"
   ]
  },
  {
   "cell_type": "code",
   "execution_count": 50,
   "id": "9a5c39f8-6866-4d95-a9a2-60c6863b8638",
   "metadata": {},
   "outputs": [
    {
     "name": "stdout",
     "output_type": "stream",
     "text": [
      "['hello', ' my name is yogesh', 'i am 25 years old']\n"
     ]
    }
   ],
   "source": [
    "txt9 = 'hello, my name is yogesh,i am 25 years old'\n",
    "sentence = txt9.split(',')\n",
    "print(sentence)"
   ]
  },
  {
   "cell_type": "markdown",
   "id": "bc6dbef2-799d-4b9a-9217-4dc6c6bb7730",
   "metadata": {},
   "source": [
    "# string splitlines()"
   ]
  },
  {
   "cell_type": "code",
   "execution_count": 55,
   "id": "5dc1a380-d423-4c12-bf94-044da2a7d7e5",
   "metadata": {},
   "outputs": [
    {
     "name": "stdout",
     "output_type": "stream",
     "text": [
      "[' thank you for the music', 'welcome to the jungle']\n"
     ]
    }
   ],
   "source": [
    "char1 = ' thank you for the music\\nwelcome to the jungle'\n",
    "sentence = char1.splitlines()\n",
    "print(sentence)"
   ]
  },
  {
   "cell_type": "code",
   "execution_count": 59,
   "id": "427c3ba0-1852-4cbf-bd50-63efe3cba3c0",
   "metadata": {},
   "outputs": [
    {
     "name": "stdout",
     "output_type": "stream",
     "text": [
      "[' thank you for the music\\n', 'welcome to the jungle']\n"
     ]
    }
   ],
   "source": [
    "char1 = ' thank you for the music\\nwelcome to the jungle'\n",
    "sentence = char1.splitlines(True)\n",
    "print(sentence)"
   ]
  },
  {
   "cell_type": "markdown",
   "id": "6d932d74-1341-4f70-a2a1-60a01d15d22b",
   "metadata": {},
   "source": [
    "# string startswith()"
   ]
  },
  {
   "cell_type": "code",
   "execution_count": 64,
   "id": "e70fe124-ef2e-406e-b12f-a12ef738c73f",
   "metadata": {},
   "outputs": [
    {
     "name": "stdout",
     "output_type": "stream",
     "text": [
      "True\n"
     ]
    }
   ],
   "source": [
    "char2 = 'hello, welcome to my world'\n",
    "sentence = char2.startswith('hello')\n",
    "print(sentence)"
   ]
  },
  {
   "cell_type": "markdown",
   "id": "d8ac327f-b52c-4869-a1ff-d568312bbf0b",
   "metadata": {},
   "source": [
    "# string strip()"
   ]
  },
  {
   "cell_type": "code",
   "execution_count": 70,
   "id": "7a665a8d-833f-4b8b-8f76-fb28fbca3e76",
   "metadata": {},
   "outputs": [
    {
     "name": "stdout",
     "output_type": "stream",
     "text": [
      "of all fruits apple is my favorite\n"
     ]
    }
   ],
   "source": [
    "char3 = '   apple   '\n",
    "sentence = char3.strip()\n",
    "print('of all fruits',sentence,'is my favorite')"
   ]
  },
  {
   "cell_type": "markdown",
   "id": "f2bf0ca4-36bd-4b27-b2d1-3969cdd5d61b",
   "metadata": {},
   "source": [
    "# string swapcase()"
   ]
  },
  {
   "cell_type": "code",
   "execution_count": 73,
   "id": "99b84b12-cc8a-46fb-b3b4-9070e35a69f5",
   "metadata": {},
   "outputs": [
    {
     "name": "stdout",
     "output_type": "stream",
     "text": [
      "HELLO MY NAME IS YOGESH\n"
     ]
    }
   ],
   "source": [
    "char4 = 'hello my name is yogesh'\n",
    "sentence = char4.swapcase()\n",
    "print(sentence)"
   ]
  },
  {
   "cell_type": "markdown",
   "id": "e653241a-8bd1-4460-8a93-d661b2cc165f",
   "metadata": {},
   "source": [
    "# string title()"
   ]
  },
  {
   "cell_type": "code",
   "execution_count": 76,
   "id": "3c8884f5-9c72-43b3-a40d-fa9a1dcd29c9",
   "metadata": {},
   "outputs": [
    {
     "name": "stdout",
     "output_type": "stream",
     "text": [
      "Welcome To My World\n"
     ]
    }
   ],
   "source": [
    "char5 = 'welcome to my world'\n",
    "sentence = char5.title()\n",
    "print(sentence)"
   ]
  },
  {
   "cell_type": "markdown",
   "id": "095aaf18-e57a-4d80-9736-6b5af0a26481",
   "metadata": {},
   "source": [
    "# string translate()"
   ]
  },
  {
   "cell_type": "code",
   "execution_count": 81,
   "id": "527bb06c-c662-4f3d-8075-ccc18c3e97ea",
   "metadata": {},
   "outputs": [
    {
     "name": "stdout",
     "output_type": "stream",
     "text": [
      "hello yogi\n"
     ]
    }
   ],
   "source": [
    "#use a dictionary with ascii codes to replace 83 (y) with 80 (g):\n",
    "mydict = {83: 80}\n",
    "char6 = 'hello yogi'\n",
    "print(char6.translate(mydict))"
   ]
  },
  {
   "cell_type": "markdown",
   "id": "7f4f95a1-638a-4ac8-8805-b2d2b5419278",
   "metadata": {},
   "source": [
    "# string upper()"
   ]
  },
  {
   "cell_type": "code",
   "execution_count": 84,
   "id": "6dacd0b1-5c52-4843-a4bd-babdb5c5e8bc",
   "metadata": {},
   "outputs": [
    {
     "name": "stdout",
     "output_type": "stream",
     "text": [
      "HELLO MY FRIENDS\n"
     ]
    }
   ],
   "source": [
    "char7 = 'hello my friends'\n",
    "sentence = char7.upper()\n",
    "print(sentence)"
   ]
  },
  {
   "cell_type": "markdown",
   "id": "8c34ac3a-08af-4860-9d92-ebdf9f773e7a",
   "metadata": {},
   "source": [
    "# string zfill()"
   ]
  },
  {
   "cell_type": "code",
   "execution_count": 87,
   "id": "b10615eb-308d-4618-9e7a-c1d7128a2deb",
   "metadata": {},
   "outputs": [
    {
     "name": "stdout",
     "output_type": "stream",
     "text": [
      "hello my friends\n"
     ]
    }
   ],
   "source": [
    "char8 = '50'\n",
    "sentence = char7.zfill(10)\n",
    "print(sentence)"
   ]
  },
  {
   "cell_type": "code",
   "execution_count": null,
   "id": "bd418913-f2d3-4484-83cc-ca689ca4aa20",
   "metadata": {},
   "outputs": [],
   "source": []
  }
 ],
 "metadata": {
  "kernelspec": {
   "display_name": "Python 3 (ipykernel)",
   "language": "python",
   "name": "python3"
  },
  "language_info": {
   "codemirror_mode": {
    "name": "ipython",
    "version": 3
   },
   "file_extension": ".py",
   "mimetype": "text/x-python",
   "name": "python",
   "nbconvert_exporter": "python",
   "pygments_lexer": "ipython3",
   "version": "3.11.7"
  }
 },
 "nbformat": 4,
 "nbformat_minor": 5
}
